{
 "cells": [
  {
   "cell_type": "markdown",
   "id": "c65c1aa1-ac5e-4585-95cc-7046decbb467",
   "metadata": {},
   "source": [
    "# Data Visualization"
   ]
  },
  {
   "cell_type": "markdown",
   "id": "55b57848-7710-4673-a014-c4ffd382b1f7",
   "metadata": {},
   "source": [
    "## Objectives"
   ]
  },
  {
   "cell_type": "markdown",
   "id": "256c03a7-112c-4b82-b491-18f5cdbac2d5",
   "metadata": {},
   "source": [
    "* Answer business requirement 1:\n",
    "  **The client is interested in predicting if a cherry leaf is healthy or contains powdery mildew.**"
   ]
  },
  {
   "cell_type": "markdown",
   "id": "c2eaff63-4bc7-4d90-9e33-6747a674d896",
   "metadata": {},
   "source": [
    "## Inputs"
   ]
  },
  {
   "cell_type": "markdown",
   "id": "96cba6c2-894b-4e1c-99bd-d74cb95422c8",
   "metadata": {},
   "source": [
    "* inputs/cherry_leaves_dataset/train\n",
    "* inputs/cherry_leaves_dataset/test\n",
    "* inputs/cherry_leaves_dataset/validation"
   ]
  },
  {
   "cell_type": "markdown",
   "id": "da59dd4c-34b4-48e0-88b7-fc865eae2ba4",
   "metadata": {},
   "source": [
    "## Outputs"
   ]
  },
  {
   "cell_type": "markdown",
   "id": "33e7b533-f61c-4dad-a7a2-db1a1af014ca",
   "metadata": {},
   "source": [
    "* Image shape embeddings pickle file\n",
    "* Mean and variability of images per label plot\n",
    "* Plot to distinguish the contrast between healthy leaves and leaves infected with powdery mildew\n",
    "* Generate code that answers business requirement 1 and can be used to create an image montage on the streamlit dashboard"
   ]
  },
  {
   "cell_type": "markdown",
   "id": "edca73e6-7d85-4325-9be6-79d151e6abb2",
   "metadata": {},
   "source": [
    "----------------"
   ]
  },
  {
   "cell_type": "markdown",
   "id": "5df76838-2801-4875-9525-884cbc3487b9",
   "metadata": {},
   "source": [
    "# Import libraries"
   ]
  },
  {
   "cell_type": "code",
   "execution_count": 1,
   "id": "87f92cd6-c251-4380-aecb-043ff33edb39",
   "metadata": {},
   "outputs": [
    {
     "name": "stderr",
     "output_type": "stream",
     "text": [
      "Matplotlib is building the font cache; this may take a moment.\n"
     ]
    }
   ],
   "source": [
    "import os\n",
    "import pandas as pd\n",
    "import numpy as np\n",
    "import matplotlib.pyplot as plt\n",
    "import seaborn as sns\n",
    "import joblib\n",
    "sns.set_style(\"white\")\n",
    "from matplotlib.image import imread"
   ]
  },
  {
   "cell_type": "markdown",
   "id": "1aba6a97-72ac-412c-ad5f-3fde2108cd9b",
   "metadata": {},
   "source": [
    "----------------"
   ]
  },
  {
   "cell_type": "markdown",
   "id": "da4df6b5-97c0-4719-ab14-e11fee1030f2",
   "metadata": {},
   "source": [
    "# Set working directories"
   ]
  },
  {
   "cell_type": "code",
   "execution_count": 3,
   "id": "4d5d7f27-bb50-4981-898d-a6fef2d53d01",
   "metadata": {},
   "outputs": [
    {
     "data": {
      "text/plain": [
       "'/workspaces/mildew-detection/jupyter_notebooks'"
      ]
     },
     "execution_count": 3,
     "metadata": {},
     "output_type": "execute_result"
    }
   ],
   "source": [
    "current_dir = os.getcwd()\n",
    "current_dir"
   ]
  },
  {
   "cell_type": "code",
   "execution_count": 4,
   "id": "bd7b8489-7c95-4ffb-9b5b-dc0487c8bd3a",
   "metadata": {},
   "outputs": [
    {
     "name": "stdout",
     "output_type": "stream",
     "text": [
      "You set a new current directory\n"
     ]
    }
   ],
   "source": [
    "os.chdir(os.path.dirname(current_dir))\n",
    "print(\"You set a new current directory\")"
   ]
  },
  {
   "cell_type": "code",
   "execution_count": 5,
   "id": "729ddd1d-4ffe-4a49-9b47-c4060a7e8601",
   "metadata": {},
   "outputs": [
    {
     "data": {
      "text/plain": [
       "'/workspaces/mildew-detection'"
      ]
     },
     "execution_count": 5,
     "metadata": {},
     "output_type": "execute_result"
    }
   ],
   "source": [
    "current_dir = os.getcwd()\n",
    "current_dir"
   ]
  },
  {
   "cell_type": "markdown",
   "id": "d5f8e84c-f683-4988-8a11-bb05a77d7b74",
   "metadata": {},
   "source": [
    "### Set input directory"
   ]
  },
  {
   "cell_type": "code",
   "execution_count": 6,
   "id": "17930690-5759-4428-ace1-2018651db25e",
   "metadata": {},
   "outputs": [],
   "source": [
    "my_data_dir = 'inputs/malaria_dataset/cell_images'\n",
    "train_path = my_data_dir + '/train'\n",
    "val_path = my_data_dir + '/validation'\n",
    "test_path = my_data_dir + '/test'"
   ]
  },
  {
   "cell_type": "markdown",
   "id": "67047eb8-7325-429e-8a9c-3320cd5424f7",
   "metadata": {},
   "source": [
    "### Set output directory"
   ]
  },
  {
   "cell_type": "code",
   "execution_count": null,
   "id": "d4178477-c6ae-4a16-bb18-ad726c6877f3",
   "metadata": {},
   "outputs": [],
   "source": [
    "version = 'v1'\n",
    "file_path = f'outputs/{version}'\n",
    "\n",
    "if 'outputs' in os.listdir(work_dir) and version in os.listdir(work_dir + '/outputs'):\n",
    "    print('Old version is already available create a new version.')\n",
    "    pass\n",
    "else:\n",
    "    os.makedirs(name=file_path)"
   ]
  },
  {
   "cell_type": "markdown",
   "id": "9acc86ca-6a73-409d-9658-c51b513ff808",
   "metadata": {},
   "source": [
    "### Set label names"
   ]
  },
  {
   "cell_type": "code",
   "execution_count": null,
   "id": "706cb150-b87a-438a-9b04-a408ebaffa9c",
   "metadata": {},
   "outputs": [],
   "source": [
    "labels = os.listdir(train_path)\n",
    "print('Label for the images are', labels)"
   ]
  },
  {
   "cell_type": "markdown",
   "id": "b2542428-37d8-4b43-a996-fe766b790283",
   "metadata": {},
   "source": [
    "----------------------"
   ]
  },
  {
   "cell_type": "markdown",
   "id": "bedc0b73-a00b-46c1-942f-8926a27f0964",
   "metadata": {},
   "source": [
    "# Data Visualization of images"
   ]
  },
  {
   "cell_type": "code",
   "execution_count": null,
   "id": "fddc7598-2ca2-403e-9d8e-a377e6be2a60",
   "metadata": {},
   "outputs": [],
   "source": []
  }
 ],
 "metadata": {
  "kernelspec": {
   "display_name": "Python 3 (ipykernel)",
   "language": "python",
   "name": "python3"
  },
  "language_info": {
   "codemirror_mode": {
    "name": "ipython",
    "version": 3
   },
   "file_extension": ".py",
   "mimetype": "text/x-python",
   "name": "python",
   "nbconvert_exporter": "python",
   "pygments_lexer": "ipython3",
   "version": "3.8.12"
  }
 },
 "nbformat": 4,
 "nbformat_minor": 5
}
