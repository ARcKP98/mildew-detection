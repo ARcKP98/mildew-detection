{
 "cells": [
  {
   "cell_type": "markdown",
   "id": "d5f4ea4a-0b82-4244-bc5f-a14a4a85e501",
   "metadata": {},
   "source": [
    "# Modelling and Evaluation"
   ]
  },
  {
   "cell_type": "markdown",
   "id": "532a69cd-0437-48e3-8247-685c21b6b59b",
   "metadata": {},
   "source": [
    "## Objectives"
   ]
  },
  {
   "attachments": {},
   "cell_type": "markdown",
   "id": "718d69ab-ad34-4945-94b9-4db4c30c6804",
   "metadata": {},
   "source": [
    "* Answer business requirement 2: **The client is interested in predicting if a cherry leaf is healthy or contains powdery mildew.**"
   ]
  },
  {
   "cell_type": "markdown",
   "id": "ba38e365-7750-42e9-bc31-f2c6de64cc94",
   "metadata": {},
   "source": [
    "## Inputs"
   ]
  },
  {
   "cell_type": "markdown",
   "id": "643991fb-7fda-469f-838c-95cd56682e0d",
   "metadata": {},
   "source": [
    "* inputs/cherry_leaves_dataset/train\n",
    "* inputs/cherry_leaves_dataset/test\n",
    "* inputs/cherry_leaves_dataset/validation\n",
    "* image_shape"
   ]
  },
  {
   "cell_type": "markdown",
   "id": "970a0777-f991-4f26-bb71-8aa8fbeae3a5",
   "metadata": {},
   "source": [
    "## Outputs"
   ]
  },
  {
   "cell_type": "markdown",
   "id": "3c75b09a-fac8-4394-b8f0-b961bbd0892b",
   "metadata": {},
   "source": [
    "* Images distribution plot in train, validation, and test set\n",
    "* Image augmentation\n",
    "* Class indices to change prediction inference in labels\n",
    "* Machine learning model creation and training\n",
    "* Save model\n",
    "* Learning curve plot for model performance\n",
    "* Model evaluation on pickle file\n",
    "* Prediction on the random image file"
   ]
  },
  {
   "cell_type": "markdown",
   "id": "8f46e5b5-f808-451f-abc7-1a0e57434df6",
   "metadata": {},
   "source": [
    "---------------------------"
   ]
  },
  {
   "cell_type": "markdown",
   "id": "c023542e-4925-48e0-b9ea-7c60892fe0ac",
   "metadata": {},
   "source": [
    "# Import libraries"
   ]
  },
  {
   "cell_type": "code",
   "execution_count": 1,
   "id": "2ad9b3a2-c0ba-4322-bfc4-4c82dc59754f",
   "metadata": {},
   "outputs": [],
   "source": [
    "import os\n",
    "import pandas as pd\n",
    "import numpy as np\n",
    "import matplotlib.pyplot as plt\n",
    "import seaborn as sns\n",
    "from matplotlib.image import imread"
   ]
  },
  {
   "cell_type": "markdown",
   "id": "01431fc7-8ff7-4015-a1a9-7a9bfe6945db",
   "metadata": {},
   "source": [
    "-----------"
   ]
  },
  {
   "cell_type": "markdown",
   "id": "5bd7a453-bb5e-4196-80e8-85c65edfb66d",
   "metadata": {},
   "source": [
    "# Set working directories"
   ]
  },
  {
   "cell_type": "code",
   "execution_count": 2,
   "id": "3073c3ab-4b23-43c4-8bc1-703b830e9209",
   "metadata": {},
   "outputs": [
    {
     "data": {
      "text/plain": [
       "'/workspaces/mildew-detection/jupyter_notebooks'"
      ]
     },
     "execution_count": 2,
     "metadata": {},
     "output_type": "execute_result"
    }
   ],
   "source": [
    "current_dir = os.getcwd()\n",
    "current_dir"
   ]
  },
  {
   "cell_type": "code",
   "execution_count": 3,
   "id": "e5ed4346-c08c-47f9-ab5b-2f77e7738172",
   "metadata": {},
   "outputs": [
    {
     "name": "stdout",
     "output_type": "stream",
     "text": [
      "You set a new current directory\n"
     ]
    }
   ],
   "source": [
    "os.chdir(os.path.dirname(current_dir))\n",
    "print(\"You set a new current directory\")"
   ]
  },
  {
   "cell_type": "code",
   "execution_count": 4,
   "id": "1521f1a3-b6b7-4c5e-99d8-78e27132834b",
   "metadata": {},
   "outputs": [
    {
     "data": {
      "text/plain": [
       "'/workspaces/mildew-detection'"
      ]
     },
     "execution_count": 4,
     "metadata": {},
     "output_type": "execute_result"
    }
   ],
   "source": [
    "current_dir = os.getcwd()\n",
    "current_dir"
   ]
  },
  {
   "cell_type": "markdown",
   "id": "d3bf8bb5-4946-445c-94a7-5f213eefa47f",
   "metadata": {},
   "source": [
    "### Set input directory "
   ]
  },
  {
   "cell_type": "code",
   "execution_count": 5,
   "id": "850d9863-b608-4c53-be21-db26dc6dd369",
   "metadata": {},
   "outputs": [],
   "source": [
    "my_data_dir = 'inputs/cherry_leaves_dataset/cherry-leaves'\n",
    "train_path = my_data_dir + '/train'\n",
    "val_path = my_data_dir + '/validation'\n",
    "test_path = my_data_dir + '/test'"
   ]
  },
  {
   "cell_type": "markdown",
   "id": "dfb99223-b29e-452c-8992-19a05d3969c3",
   "metadata": {},
   "source": [
    "### Set output directory"
   ]
  },
  {
   "cell_type": "code",
   "execution_count": 6,
   "id": "6043f314-b3ab-4d25-b3cc-a3e66c1cd8ba",
   "metadata": {},
   "outputs": [
    {
     "name": "stdout",
     "output_type": "stream",
     "text": [
      "Old version is already available create a new version.\n"
     ]
    }
   ],
   "source": [
    "version = 'v1'\n",
    "file_path = f'outputs/{version}'\n",
    "\n",
    "if 'outputs' in os.listdir(current_dir) and version in os.listdir(current_dir + '/outputs'):\n",
    "    print('Old version is already available create a new version.')\n",
    "    pass\n",
    "else:\n",
    "    os.makedirs(name=file_path)"
   ]
  },
  {
   "cell_type": "markdown",
   "id": "ce1de6cb-7f25-4831-8176-9340bc7043e4",
   "metadata": {},
   "source": [
    "### Set label names "
   ]
  },
  {
   "cell_type": "code",
   "execution_count": 7,
   "id": "e3eb8bee-103d-42b7-bc2b-c5b87567bb05",
   "metadata": {},
   "outputs": [
    {
     "name": "stdout",
     "output_type": "stream",
     "text": [
      "Labels for the images are ['healthy', 'powdery_mildew']\n"
     ]
    }
   ],
   "source": [
    "labels = os.listdir(train_path)\n",
    "print('Labels for the images are', labels)"
   ]
  },
  {
   "cell_type": "markdown",
   "id": "8aabfd89-a6db-456c-9e99-7a7d55b7cb8e",
   "metadata": {},
   "source": [
    "### Set image shape"
   ]
  },
  {
   "cell_type": "code",
   "execution_count": 13,
   "id": "46f5db94-3622-4c9c-9227-f487e743a26c",
   "metadata": {},
   "outputs": [
    {
     "data": {
      "text/plain": [
       "(256, 256, 3)"
      ]
     },
     "execution_count": 13,
     "metadata": {},
     "output_type": "execute_result"
    }
   ],
   "source": [
    "import joblib\n",
    "version = 'v1'\n",
    "image_shape = joblib.load(filename=f\"outputs/{version}/image_shape.pkl\")\n",
    "image_shape"
   ]
  },
  {
   "cell_type": "markdown",
   "id": "33d77cc6-47fc-4786-85f6-6c771409e879",
   "metadata": {},
   "source": [
    "------------------"
   ]
  },
  {
   "cell_type": "markdown",
   "id": "c8072484-3e53-4ab1-80ef-51eac8b16ee7",
   "metadata": {},
   "source": [
    "# Plot the number of images in train, test, and validation datasets"
   ]
  },
  {
   "cell_type": "code",
   "execution_count": 8,
   "id": "9a4394bf-7833-469c-a491-d4feb11b0810",
   "metadata": {},
   "outputs": [
    {
     "name": "stdout",
     "output_type": "stream",
     "text": [
      "* train - healthy: 1472 images\n",
      "* train - powdery_mildew: 1472 images\n",
      "* test - healthy: 422 images\n",
      "* test - powdery_mildew: 422 images\n",
      "* validation - healthy: 210 images\n",
      "* validation - powdery_mildew: 210 images\n",
      "\n",
      "\n"
     ]
    },
    {
     "data": {
      "image/png": "[encoded data removed]",
      "text/plain": [
       "<Figure size 800x500 with 1 Axes>"
      ]
     },
     "metadata": {},
     "output_type": "display_data"
    }
   ],
   "source": [
    "df_freq = pd.DataFrame([])\n",
    "for folder in ['train', 'test', 'validation']:\n",
    "    for label in labels:\n",
    "        df_freq = df_freq.append(\n",
    "            pd.Series(data={'Set': folder,\n",
    "                            'Label': label,\n",
    "                            'Frequency': int(len(os.listdir(my_data_dir + '/' + folder + '/' + label)))}\n",
    "                      ),\n",
    "            ignore_index=True\n",
    "        )\n",
    "\n",
    "        print(\n",
    "            f\"* {folder} - {label}: {len(os.listdir(my_data_dir+'/'+ folder + '/' + label))} images\")\n",
    "\n",
    "print(\"\\n\")\n",
    "sns.set_style(\"whitegrid\")\n",
    "plt.figure(figsize=(8, 5))\n",
    "sns.barplot(data=df_freq, x='Set', y='Frequency', hue='Label', palette='Paired')\n",
    "plt.savefig(f'{file_path}/labels_distribution.png',\n",
    "            bbox_inches='tight', dpi=150)\n",
    "plt.show()"
   ]
  },
  {
   "cell_type": "markdown",
   "id": "50e43652-e107-460d-8224-e15e32856a99",
   "metadata": {},
   "source": [
    "-------------"
   ]
  },
  {
   "cell_type": "markdown",
   "id": "a4884141-3944-46ae-8d04-6845978046b6",
   "metadata": {},
   "source": [
    "# Image data augmentation"
   ]
  },
  {
   "cell_type": "markdown",
   "id": "58e2435b-8b55-42fb-a1d6-bd71746882d2",
   "metadata": {},
   "source": [
    "As the above plot indicates, the dataset is not large enough. To solve this, we data augmentation technique which will artificially add data to the datasets. To do this, import ImageDataGenerator from Tensorflow. "
   ]
  },
  {
   "cell_type": "code",
   "execution_count": 9,
   "id": "a68466d1-3634-4feb-85af-ea207b704e14",
   "metadata": {},
   "outputs": [],
   "source": [
    "from tensorflow.keras.preprocessing.image import ImageDataGenerator"
   ]
  },
  {
   "cell_type": "markdown",
   "id": "fa8e5710-08b1-4488-ab73-88baccc8f58f",
   "metadata": {},
   "source": [
    "Initialise ImageDataGenerator"
   ]
  },
  {
   "cell_type": "code",
   "execution_count": 11,
   "id": "8f1af50f-1709-42ed-81dc-4f659a7425b5",
   "metadata": {},
   "outputs": [],
   "source": [
    "augmented_image_data = ImageDataGenerator(\n",
    "    rotation_range=20,\n",
    "    width_shift_range=0.10,\n",
    "    height_shift_range=0.10,\n",
    "    shear_range=0.1,\n",
    "    zoom_range=0.1,\n",
    "    horizontal_flip=True, \n",
    "    vertical_flip=True,\n",
    "    fill_mode='nearest',\n",
    "    rescale=1./255\n",
    ")"
   ]
  },
  {
   "cell_type": "markdown",
   "id": "12a775fa-de67-47f6-9d21-77b86dfd21d6",
   "metadata": {},
   "source": [
    "#### Batch size"
   ]
  },
  {
   "cell_type": "code",
   "execution_count": 15,
   "id": "fd6b12a8-0dad-4280-919d-91be11e5705f",
   "metadata": {},
   "outputs": [],
   "source": [
    "batch_size = 20 #To be used when augmenting the datasets"
   ]
  },
  {
   "cell_type": "markdown",
   "id": "184a8531-4c3f-4166-b3dc-406689cb2883",
   "metadata": {},
   "source": [
    "#### Augment training image"
   ]
  },
  {
   "cell_type": "code",
   "execution_count": 16,
   "id": "d9693711-2f0d-4ec4-949d-2255c5201aeb",
   "metadata": {},
   "outputs": [
    {
     "name": "stdout",
     "output_type": "stream",
     "text": [
      "Found 2944 images belonging to 2 classes.\n"
     ]
    },
    {
     "data": {
      "text/plain": [
       "{'healthy': 0, 'powdery_mildew': 1}"
      ]
     },
     "execution_count": 16,
     "metadata": {},
     "output_type": "execute_result"
    }
   ],
   "source": [
    "train_set = augmented_image_data.flow_from_directory(train_path,\n",
    "                                                     target_size=image_shape[:2],\n",
    "                                                     color_mode='rgb',\n",
    "                                                     batch_size=batch_size,\n",
    "                                                     class_mode='binary',\n",
    "                                                     shuffle=True\n",
    "                                                     )\n",
    "train_set.class_indices"
   ]
  },
  {
   "cell_type": "markdown",
   "id": "7a4bde99-a046-4c2e-91b0-4d08a1c702ef",
   "metadata": {},
   "source": [
    "#### Augment test image"
   ]
  },
  {
   "cell_type": "code",
   "execution_count": 17,
   "id": "85c6ad9b-5549-45f0-96cd-1254cde13e8a",
   "metadata": {},
   "outputs": [
    {
     "name": "stdout",
     "output_type": "stream",
     "text": [
      "Found 844 images belonging to 2 classes.\n"
     ]
    },
    {
     "data": {
      "text/plain": [
       "{'healthy': 0, 'powdery_mildew': 1}"
      ]
     },
     "execution_count": 17,
     "metadata": {},
     "output_type": "execute_result"
    }
   ],
   "source": [
    "test_set = ImageDataGenerator(rescale=1./255).flow_from_directory(test_path,\n",
    "                                                                  target_size=image_shape[:2],\n",
    "                                                                  color_mode='rgb',\n",
    "                                                                  batch_size=batch_size,\n",
    "                                                                  class_mode='binary',\n",
    "                                                                  shuffle=False\n",
    "                                                                  )\n",
    "test_set.class_indices"
   ]
  },
  {
   "cell_type": "code",
   "execution_count": null,
   "id": "cca15da9-e282-41ca-a186-a077e1a55349",
   "metadata": {},
   "outputs": [],
   "source": []
  }
 ],
 "metadata": {
  "kernelspec": {
   "display_name": "Python 3 (ipykernel)",
   "language": "python",
   "name": "python3"
  },
  "language_info": {
   "codemirror_mode": {
    "name": "ipython",
    "version": 3
   },
   "file_extension": ".py",
   "mimetype": "text/x-python",
   "name": "python",
   "nbconvert_exporter": "python",
   "pygments_lexer": "ipython3",
   "version": "3.8.12"
  }
 },
 "nbformat": 4,
 "nbformat_minor": 5
}
