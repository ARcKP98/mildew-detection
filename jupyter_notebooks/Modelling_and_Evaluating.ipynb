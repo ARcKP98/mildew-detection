{
 "cells": [
  {
   "cell_type": "markdown",
   "id": "d5f4ea4a-0b82-4244-bc5f-a14a4a85e501",
   "metadata": {},
   "source": [
    "# Modelling and Evaluation"
   ]
  },
  {
   "cell_type": "markdown",
   "id": "532a69cd-0437-48e3-8247-685c21b6b59b",
   "metadata": {},
   "source": [
    "## Objectives"
   ]
  },
  {
   "attachments": {},
   "cell_type": "markdown",
   "id": "718d69ab-ad34-4945-94b9-4db4c30c6804",
   "metadata": {},
   "source": [
    "* Answer business requirement 2: **The client is interested in predicting if a cherry leaf is healthy or contains powdery mildew.**"
   ]
  },
  {
   "cell_type": "markdown",
   "id": "ba38e365-7750-42e9-bc31-f2c6de64cc94",
   "metadata": {},
   "source": [
    "## Inputs"
   ]
  },
  {
   "cell_type": "markdown",
   "id": "643991fb-7fda-469f-838c-95cd56682e0d",
   "metadata": {},
   "source": [
    "* inputs/cherry_leaves_dataset/train\n",
    "* inputs/cherry_leaves_dataset/test\n",
    "* inputs/cherry_leaves_dataset/validation\n",
    "* image_shape"
   ]
  },
  {
   "cell_type": "markdown",
   "id": "970a0777-f991-4f26-bb71-8aa8fbeae3a5",
   "metadata": {},
   "source": [
    "## Outputs"
   ]
  },
  {
   "cell_type": "markdown",
   "id": "3c75b09a-fac8-4394-b8f0-b961bbd0892b",
   "metadata": {},
   "source": [
    "* Images distribution plot in train, validation, and test set\n",
    "* Image augmentation\n",
    "* Class indices to change prediction inference in labels\n",
    "* Machine learning model creation and training\n",
    "* Save model\n",
    "* Learning curve plot for model performance\n",
    "* Model evaluation on pickle file\n",
    "* Prediction on the random image file"
   ]
  },
  {
   "cell_type": "markdown",
   "id": "8f46e5b5-f808-451f-abc7-1a0e57434df6",
   "metadata": {},
   "source": [
    "---------------------------"
   ]
  },
  {
   "cell_type": "markdown",
   "id": "c023542e-4925-48e0-b9ea-7c60892fe0ac",
   "metadata": {},
   "source": [
    "# Import libraries"
   ]
  },
  {
   "cell_type": "code",
   "execution_count": null,
   "id": "2ad9b3a2-c0ba-4322-bfc4-4c82dc59754f",
   "metadata": {},
   "outputs": [],
   "source": [
    "import os\n",
    "import pandas as pd\n",
    "import numpy as np\n",
    "import matplotlib.pyplot as plt\n",
    "import seaborn as sns\n",
    "from matplotlib.image import imread"
   ]
  },
  {
   "cell_type": "markdown",
   "id": "01431fc7-8ff7-4015-a1a9-7a9bfe6945db",
   "metadata": {},
   "source": [
    "-----------"
   ]
  },
  {
   "cell_type": "markdown",
   "id": "5bd7a453-bb5e-4196-80e8-85c65edfb66d",
   "metadata": {},
   "source": [
    "# Set working directories"
   ]
  },
  {
   "cell_type": "code",
   "execution_count": null,
   "id": "3073c3ab-4b23-43c4-8bc1-703b830e9209",
   "metadata": {},
   "outputs": [],
   "source": [
    "current_dir = os.getcwd()\n",
    "current_dir"
   ]
  },
  {
   "cell_type": "code",
   "execution_count": null,
   "id": "e5ed4346-c08c-47f9-ab5b-2f77e7738172",
   "metadata": {},
   "outputs": [],
   "source": [
    "os.chdir(os.path.dirname(current_dir))\n",
    "print(\"You set a new current directory\")"
   ]
  },
  {
   "cell_type": "code",
   "execution_count": null,
   "id": "1521f1a3-b6b7-4c5e-99d8-78e27132834b",
   "metadata": {},
   "outputs": [],
   "source": [
    "current_dir = os.getcwd()\n",
    "current_dir"
   ]
  },
  {
   "cell_type": "markdown",
   "id": "d3bf8bb5-4946-445c-94a7-5f213eefa47f",
   "metadata": {},
   "source": [
    "### Set input directory "
   ]
  },
  {
   "cell_type": "code",
   "execution_count": null,
   "id": "850d9863-b608-4c53-be21-db26dc6dd369",
   "metadata": {},
   "outputs": [],
   "source": [
    "my_data_dir = 'inputs/cherry_leaves_dataset/cherry-leaves'\n",
    "train_path = my_data_dir + '/train'\n",
    "val_path = my_data_dir + '/validation'\n",
    "test_path = my_data_dir + '/test'"
   ]
  },
  {
   "cell_type": "markdown",
   "id": "dfb99223-b29e-452c-8992-19a05d3969c3",
   "metadata": {},
   "source": [
    "### Set output directory"
   ]
  },
  {
   "cell_type": "code",
   "execution_count": null,
   "id": "6043f314-b3ab-4d25-b3cc-a3e66c1cd8ba",
   "metadata": {},
   "outputs": [],
   "source": [
    "version = 'v1'\n",
    "file_path = f'outputs/{version}'\n",
    "\n",
    "if 'outputs' in os.listdir(current_dir) and version in os.listdir(current_dir + '/outputs'):\n",
    "    print('Old version is already available create a new version.')\n",
    "    pass\n",
    "else:\n",
    "    os.makedirs(name=file_path)"
   ]
  },
  {
   "cell_type": "markdown",
   "id": "ce1de6cb-7f25-4831-8176-9340bc7043e4",
   "metadata": {},
   "source": [
    "### Set label names "
   ]
  },
  {
   "cell_type": "code",
   "execution_count": null,
   "id": "e3eb8bee-103d-42b7-bc2b-c5b87567bb05",
   "metadata": {},
   "outputs": [],
   "source": [
    "labels = os.listdir(train_path)\n",
    "print('Labels for the images are', labels)"
   ]
  },
  {
   "cell_type": "markdown",
   "id": "33d77cc6-47fc-4786-85f6-6c771409e879",
   "metadata": {},
   "source": [
    "------------------"
   ]
  },
  {
   "cell_type": "code",
   "execution_count": null,
   "id": "3a01d9ed-e009-4500-9dfd-f243e0199d46",
   "metadata": {},
   "outputs": [],
   "source": []
  }
 ],
 "metadata": {
  "kernelspec": {
   "display_name": "Python 3 (ipykernel)",
   "language": "python",
   "name": "python3"
  },
  "language_info": {
   "codemirror_mode": {
    "name": "ipython",
    "version": 3
   },
   "file_extension": ".py",
   "mimetype": "text/x-python",
   "name": "python",
   "nbconvert_exporter": "python",
   "pygments_lexer": "ipython3",
   "version": "3.8.12"
  }
 },
 "nbformat": 4,
 "nbformat_minor": 5
}
